{
 "cells": [
  {
   "cell_type": "code",
   "execution_count": 1,
   "metadata": {},
   "outputs": [],
   "source": [
    "a = [{'time': 0.78, 'rms_db': -61.46, 'pitch_hz': 798.76}, {'time': 0.81, 'rms_db': -61.64, 'pitch_hz': 579.98}, {'time': 0.84, 'rms_db': -62.13, 'pitch_hz': 579.71}, {'time': 0.87, 'rms_db': -63.45, 'pitch_hz': 471.93}]"
   ]
  },
  {
   "cell_type": "code",
   "execution_count": 6,
   "metadata": {},
   "outputs": [
    {
     "name": "stdout",
     "output_type": "stream",
     "text": [
      "[{'time': 0.78, 'rms_db': -61.46, 'pitch_hz': 798.76}, {'time': 0.81, 'rms_db': -61.64, 'pitch_hz': 579.98}, {'time': 0.84, 'rms_db': -62.13, 'pitch_hz': 579.71}]\n",
      "[{'time': 0.81, 'rms_db': -61.64, 'pitch_hz': 579.98}, {'time': 0.84, 'rms_db': -62.13, 'pitch_hz': 579.71}]\n",
      "[{'time': 0.84, 'rms_db': -62.13, 'pitch_hz': 579.71}]\n",
      "[]\n"
     ]
    }
   ],
   "source": [
    "for i in range(len(a)):\n",
    "    # logging.info(f\"pitch rms list of: {i}\")\n",
    "    # current_start = float(a[i][\"time\"])\n",
    "    # next_start = float(a[i+1][\"time\"])\n",
    "    # print(\"------------\")\n",
    "\n",
    "    # print(\"c\",current_start)\n",
    "    # print(\"n\", next_start)\n",
    "    # # print(\"s\", start)\n",
    "    print(a[i:3])"
   ]
  },
  {
   "cell_type": "code",
   "execution_count": 2,
   "metadata": {},
   "outputs": [],
   "source": [
    "import openai\n",
    "import os\n",
    "from langchain.vectorstores import Qdrant\n",
    "from langchain.embeddings import HuggingFaceBgeEmbeddings\n",
    "from langchain.text_splitter import RecursiveCharacterTextSplitter\n",
    "from langchain.document_loaders import PyPDFLoader\n",
    "from langchain.embeddings.openai import OpenAIEmbeddings\n",
    "from dotenv import load_dotenv"
   ]
  },
  {
   "cell_type": "code",
   "execution_count": 5,
   "metadata": {},
   "outputs": [
    {
     "name": "stdout",
     "output_type": "stream",
     "text": [
      "2\n"
     ]
    }
   ],
   "source": [
    "load_dotenv()\n",
    "\n",
    "openai.api_key = os.getenv(\"OPENAI_KEY\")\n",
    "\n",
    "loader = PyPDFLoader(\"data/150-WBE_500-TDS.pdf\")\n",
    "documents = loader.load()\n",
    "print(len(documents))\n",
    "# print(documents[0].text)"
   ]
  },
  {
   "cell_type": "code",
   "execution_count": 7,
   "metadata": {},
   "outputs": [
    {
     "data": {
      "text/plain": [
       "'GENERAL PRODUCT INFORMATION\\nColors: All standard and custom colors\\nSolids Volume: 40%\\nV.O.C.: 1.32 lbs per gallon catalyzed\\nPot-life: 1-hour @ 70° F\\nCure Schedule: 70° F @ 50% R.H. \\n To touch: 6- Hours\\n To re-coat: 8-10 Hours Minimum\\n18-24 Hours Maximum\\n Foot Traffic: 18-Hours\\n Heavy Traffic: 72-Hours\\nReducer: Not recommended\\n Application Temp: 60ºF(15.6ºC)  - 90ºF(32.2ºC)\\nEnvironment: For Interior Use Only  \\nShelf Life: 12-months factory sealed  \\nGENERAL PRODUCT PERFORMANCE\\nTEST TYPE TEST METHOD RESULT\\nChemical Resistance 50 MEK         \\nDouble Rubs\\n> 70% Gloss\\nRetention\\nHardness ASTMD 3363 HB\\nAbrasion Resistance ASTMD-4060 40 mg loss\\nFlexibility \\n1/4” cylindrical mandrel ASTMD 522 Pass\\nImpact Resistance ASTMD 2794 105 lb. direct\\nCoefficient of Friction ASTMD-2047 > 0.6  /  pass\\nUSES:\\n » Primer for Resinous Flooring\\n » Industrial Flooring\\n » Large square footage\\n » Economical 2-Coat Floor\\nCoating\\nADVANTAGES:\\n » Long  working time\\n » Easy to use 1:2 mix ratio\\n » Good weathering\\n » Excellent Durability\\nMIX RATIO: \\nPigmented: \\n » 1 Part A to 2 Parts B by Volume\\nPACKAGING & SHELF-LIFE\\nWBE 500 EP™ is available in the following Units:\\n» 3-gallon Kit: two gallons part B in a 3.5-gal pail 1-gal. part A\\nSUGGESTED APPLICATION:\\nSuitable Substrate(s): \\n » Concrete: Apply at 2 mil thickness to properly profiled concrete. \\n » May be used as a primer or a standalone 2 or 3 coat system.\\n » See page 2 for detailed application instructions.\\nANCILLARY PRODUCTS:\\nMay be used in conjunction with other Resinwerks resinous \\ncoating producs as a primer. \\nMATERIAL COVERAGE\\nTHICKNESS APPROXIMATE COVERAGE\\n2.0-mils 320 ft2 / gallon \\nRESINWERKS WB 500 EP™ PRIMER/SEALER IS A TWO-COMPONENT, \\nCATAL YZED WATER-BASED EPOXY FOR USE AS A PRIMER, MID OR TOPCOAT \\nFOR CONCRETE, METAL OR WOOD.  It provides excellent adhesion and can \\nbe used either as a primer or a 2-3 coat finished system over properly prepared \\nconcrete. It provides decent weathering as well as good abrasion and chemical \\nresistance when used as a stand-alone system.\\nWBE 500 EP ™\\nTECHNICAL DATA SHEET'"
      ]
     },
     "execution_count": 7,
     "metadata": {},
     "output_type": "execute_result"
    }
   ],
   "source": [
    "documents[0].page_content"
   ]
  },
  {
   "cell_type": "code",
   "execution_count": 8,
   "metadata": {},
   "outputs": [],
   "source": [
    "text_splitter = RecursiveCharacterTextSplitter(chunk_size=500, chunk_overlap=50)\n",
    "splitted_docs = text_splitter.split_documents(documents)\n",
    "\n",
    "texts = [doc.page_content for doc in splitted_docs]"
   ]
  },
  {
   "cell_type": "code",
   "execution_count": 9,
   "metadata": {},
   "outputs": [
    {
     "data": {
      "text/plain": [
       "['GENERAL PRODUCT INFORMATION\\nColors: All standard and custom colors\\nSolids Volume: 40%\\nV.O.C.: 1.32 lbs per gallon catalyzed\\nPot-life: 1-hour @ 70° F\\nCure Schedule: 70° F @ 50% R.H. \\n To touch: 6- Hours\\n To re-coat: 8-10 Hours Minimum\\n18-24 Hours Maximum\\n Foot Traffic: 18-Hours\\n Heavy Traffic: 72-Hours\\nReducer: Not recommended\\n Application Temp: 60ºF(15.6ºC)  - 90ºF(32.2ºC)\\nEnvironment: For Interior Use Only  \\nShelf Life: 12-months factory sealed  \\nGENERAL PRODUCT PERFORMANCE',\n",
       " 'GENERAL PRODUCT PERFORMANCE\\nTEST TYPE TEST METHOD RESULT\\nChemical Resistance 50 MEK         \\nDouble Rubs\\n> 70% Gloss\\nRetention\\nHardness ASTMD 3363 HB\\nAbrasion Resistance ASTMD-4060 40 mg loss\\nFlexibility \\n1/4” cylindrical mandrel ASTMD 522 Pass\\nImpact Resistance ASTMD 2794 105 lb. direct\\nCoefficient of Friction ASTMD-2047 > 0.6  /  pass\\nUSES:\\n » Primer for Resinous Flooring\\n » Industrial Flooring\\n » Large square footage\\n » Economical 2-Coat Floor\\nCoating\\nADVANTAGES:\\n » Long  working time',\n",
       " 'Coating\\nADVANTAGES:\\n » Long  working time\\n » Easy to use 1:2 mix ratio\\n » Good weathering\\n » Excellent Durability\\nMIX RATIO: \\nPigmented: \\n » 1 Part A to 2 Parts B by Volume\\nPACKAGING & SHELF-LIFE\\nWBE 500 EP™ is available in the following Units:\\n» 3-gallon Kit: two gallons part B in a 3.5-gal pail 1-gal. part A\\nSUGGESTED APPLICATION:\\nSuitable Substrate(s): \\n » Concrete: Apply at 2 mil thickness to properly profiled concrete. \\n » May be used as a primer or a standalone 2 or 3 coat system.',\n",
       " '» See page 2 for detailed application instructions.\\nANCILLARY PRODUCTS:\\nMay be used in conjunction with other Resinwerks resinous \\ncoating producs as a primer. \\nMATERIAL COVERAGE\\nTHICKNESS APPROXIMATE COVERAGE\\n2.0-mils 320 ft2 / gallon \\nRESINWERKS WB 500 EP™ PRIMER/SEALER IS A TWO-COMPONENT, \\nCATAL YZED WATER-BASED EPOXY FOR USE AS A PRIMER, MID OR TOPCOAT \\nFOR CONCRETE, METAL OR WOOD.  It provides excellent adhesion and can',\n",
       " 'be used either as a primer or a 2-3 coat finished system over properly prepared \\nconcrete. It provides decent weathering as well as good abrasion and chemical \\nresistance when used as a stand-alone system.\\nWBE 500 EP ™\\nTECHNICAL DATA SHEET',\n",
       " 'RESINWERKS, LLC\\n7205 GILPIN WAY STE 200 \\nDENVER, CO 80229 \\nSURFACE PREPARATION\\nEnsure substrate to be coated is clean, dry, and in sound condition. All \\nlaitance, curing compounds, concrete hardeners, and other surface \\ncontaminants must be removed. Prepare concrete in accordance with \\nASTM D 4259-83. Mechanical grinding or blasting is recommended \\nto achieve an approximate surface profile of ICRI CSP 2-3.  Surface \\nto be coated must be completely porous and free of excessive dust',\n",
       " '& contaminants. \\nMOISTURE IN CONCRETE\\nConcrete slabs should be tested prior to application for elevated \\nmoisture vapor emission levels. Resinwerks recommends ASTM \\nF2170-19 standard for determining relative humidity in concrete \\nslabs using RH probes. For slabs exhibiting elevated moisture levels \\nin excess of 75% RH, Resinwerks™ Vapor Barrier Epoxy should be \\nsubstituted as a primer. For more information, please contact your \\nResinwerks technical representative.',\n",
       " 'Resinwerks technical representative.\\nDE-GREASING OF CONTAMINATED SUBSTRATES\\nFor concrete substrates containing oil, animal fats, or other \\ncarbon based contaminants, slabs should be de-greased \\nappropriately using an enzymatic based concrete de-greasing \\nagent. Multiple applications may be required depending on the \\nlevel of contamination. For more information, please contact your \\nResinwerks technical representative. \\nTREATMENT OF JOINTS & CRACKS',\n",
       " 'TREATMENT OF JOINTS & CRACKS\\nPrior to installation of any Resinwerks primer, all joints, cracks \\nand other substrate irregularities must be addressed. For more \\ninformation on specific joint treatment procedures, please contact \\nyour Resinwerks technical services representative.  \\nMIXING INSTRUCTIONS \\n»  Prior to mixing, all products should be properly acclimated\\nto the local ambient room temperature of 60ºF(15.6ºC)  -\\n90ºF(32.2ºC)..',\n",
       " '90ºF(32.2ºC)..\\n»  Agitate both part A and Part B separately prior to mixing. Mix\\n1-part A to 2-Parts B by volume for two minutes using a slow\\nspeed jiffy mixer.\\nAPPLICATION INSTRUCTIONS \\n»  Immediately following mixing, apply coating as uniformly as\\npossible with a short nap roller. Avoid excessive cross rolling\\nand back-rolling as that will lead to bubbling. Do not allow\\nthe product to puddle. Puddling of excess material will yellow\\nand possibly not cure. Depending on ambient environmental',\n",
       " 'and slab temperatures, material will be dry to the touch and\\nready for subsequent coats within approximately 6-8 hours\\nfollowing application. Contact Resinwerks directly for additional \\napplication specifics and recommendations. \\nLIMITATIONS\\n » Do Not Freeze\\n » As with all epoxies, product will amber over time\\n » Do not apply over concrete experiencing ASR\\n » Do not apply over existing Coatings\\n » Do not apply to new slabs < 28-days old',\n",
       " '» Do not apply to new slabs < 28-days old\\n » Do not apply to concrete  < 3500 PSI compression strength\\n » Do not apply product when ambient or room temperature is\\nbelow 60ºF or over 90ºF or if the relative ambient humidity is\\nabove 85%.\\n » This product is not recommended for immersion service.\\n » DEW POINT: Do not apply when dew point is within 5ºF of the\\nambient temperature.\\nMAINTENANCE\\nThe long-term performance, appearance, and life expectancy of',\n",
       " 'wear surface products are dependent on an adequate routine \\nmaintenance program designed specifically for the installed wear \\nsurface. Resinous floor coating systems are nonporous, causing \\ndirt and contaminants to remain on the surface. Recommended \\nmaintenance programs consist of frequent and thorough cleaning \\nutilizing a neutral PH cleaner. The frequency of washing will vary \\ndepending on floor usage type, traffic and age. Please contact your',\n",
       " 'local Resinwerks technical representative for more information.\\nNOTES\\nThoroughly read all Material Safety Data Sheets prior to use and \\nmaintain copies on job-site at all times. \\nMock-ups and field test areas are strongly recommended in order \\nto validate performance and appearance related characteristics \\n(including but not limited to color, inherent surface variations, \\nwear, anti dusting, abrasion resistance, chemical resistance, stain',\n",
       " 'resistance, coefficient of friction, etc.) to ensure system performance \\nas specified for the intended use, and to determine approval of the \\ncoating system.\\nVariability in job site conditions (including but not limited to surface \\npreparation, sunlight, humidity, dew point, temperature, etc.) during \\napplication of Epoxy products may lead to fish-eyes, blistering, \\npinholes, wrinkling, or out-gassing of air in the concrete and are not \\nproduct defects. \\nTECHNICAL ASSISTANCE\\nPHONE: 720-484-5160',\n",
       " 'TECHNICAL ASSISTANCE\\nPHONE: 720-484-5160\\nWEB:  www.resinwerks.com\\nWBE 500 EP™\\nDATA SHEET\\nSKUs: \\n160-B104-02-B:   Grey Part B 2-gal\\n160-B104-05-B:   Grey Part B 5-gal\\n160-0000-01-A:              Part B 1-gal\\n160-0000-05-A:             Part B 5gal']"
      ]
     },
     "execution_count": 9,
     "metadata": {},
     "output_type": "execute_result"
    }
   ],
   "source": [
    "texts"
   ]
  },
  {
   "cell_type": "code",
   "execution_count": 11,
   "metadata": {},
   "outputs": [],
   "source": [
    "# Generate embeddings for the texts\n",
    "embeddings_model = OpenAIEmbeddings(openai_api_key=os.getenv(\"OPENAI_KEY\"))\n",
    "embeddings = embeddings_model.embed_documents(texts)\n"
   ]
  },
  {
   "cell_type": "code",
   "execution_count": 12,
   "metadata": {},
   "outputs": [
    {
     "name": "stdout",
     "output_type": "stream",
     "text": [
      "Vector DB Successfully Created!\n"
     ]
    }
   ],
   "source": [
    "url = \"http://localhost:6333\"\n",
    "qdrant = Qdrant.from_texts(\n",
    "    texts=texts,\n",
    "    embedding=embeddings_model,\n",
    "    url=url,\n",
    "    prefer_grpc=False,\n",
    "    collection_name=\"vector_db\"\n",
    ")\n",
    "\n",
    "print(\"Vector DB Successfully Created!\")"
   ]
  },
  {
   "cell_type": "code",
   "execution_count": 13,
   "metadata": {},
   "outputs": [],
   "source": [
    "import openai\n",
    "import os\n",
    "from qdrant_client import QdrantClient\n",
    "from langchain.vectorstores import Qdrant\n",
    "from langchain.embeddings import OpenAIEmbeddings\n",
    "from langchain.chains import RetrievalQA\n",
    "from langchain.llms import OpenAI\n",
    "from dotenv import load_dotenv"
   ]
  },
  {
   "cell_type": "code",
   "execution_count": 14,
   "metadata": {},
   "outputs": [],
   "source": [
    "load_dotenv()\n",
    "\n",
    "openai.api_key = os.getenv(\"OPENAI_KEY\")\n",
    "\n",
    "url = \"http://localhost:6333\"\n",
    "\n",
    "client = QdrantClient(\n",
    "    url=url, prefer_grpc=False\n",
    ")"
   ]
  },
  {
   "cell_type": "code",
   "execution_count": 15,
   "metadata": {},
   "outputs": [
    {
     "name": "stdout",
     "output_type": "stream",
     "text": [
      "##############\n"
     ]
    },
    {
     "name": "stderr",
     "output_type": "stream",
     "text": [
      "C:\\Users\\hp\\AppData\\Local\\Temp\\ipykernel_10436\\1957597326.py:5: LangChainDeprecationWarning: The class `Qdrant` was deprecated in LangChain 0.0.37 and will be removed in 1.0. An updated version of the class exists in the :class:`~langchain-qdrant package and should be used instead. To use it run `pip install -U :class:`~langchain-qdrant` and import as `from :class:`~langchain_qdrant import Qdrant``.\n",
      "  db = Qdrant(client=client, embeddings=embeddings_model, collection_name=\"vector_db\")\n",
      "C:\\Users\\hp\\AppData\\Local\\Temp\\ipykernel_10436\\1957597326.py:7: LangChainDeprecationWarning: The class `OpenAI` was deprecated in LangChain 0.0.10 and will be removed in 1.0. An updated version of the class exists in the :class:`~langchain-openai package and should be used instead. To use it run `pip install -U :class:`~langchain-openai` and import as `from :class:`~langchain_openai import OpenAI``.\n",
      "  llm = OpenAI(openai_api_key=os.getenv(\"OPENAI_KEY\"))\n"
     ]
    }
   ],
   "source": [
    "print(\"##############\")\n",
    "\n",
    "collection_name = \"vector_db\"\n",
    "embeddings_model = OpenAIEmbeddings(openai_api_key=os.getenv(\"OPENAI_KEY\"))\n",
    "db = Qdrant(client=client, embeddings=embeddings_model, collection_name=\"vector_db\")\n",
    "\n",
    "llm = OpenAI(openai_api_key=os.getenv(\"OPENAI_KEY\"))\n"
   ]
  },
  {
   "cell_type": "code",
   "execution_count": 16,
   "metadata": {},
   "outputs": [],
   "source": [
    "retrieval_qa = RetrievalQA.from_chain_type(\n",
    "    llm=llm,\n",
    "    chain_type=\"stuff\",\n",
    "    retriever=db.as_retriever()\n",
    ")\n",
    "\n",
    "def ask_question(question):\n",
    "    result = retrieval_qa({\"query\": question})\n",
    "    return result['result']"
   ]
  },
  {
   "cell_type": "code",
   "execution_count": 19,
   "metadata": {},
   "outputs": [
    {
     "name": "stdout",
     "output_type": "stream",
     "text": [
      "Question: could you please tell about maintainence\n",
      "Answer:  According to the given context, maintenance for wear surface products involves frequent and thorough cleaning with a neutral PH cleaner, and the frequency of washing will vary depending on usage type, traffic, and age. It is also important to note that the product should not be applied to new slabs < 28-days old or concrete < 3500 PSI compression strength, and the ambient temperature should be between 60ºF and 90ºF with a relative humidity below 85%. It is not recommended for immersion service and should not be applied when the dew point is within 5ºF of the ambient temperature. Mock-ups and field test areas are recommended for validation of performance and appearance, and it is important to thoroughly read all Material Safety Data Sheets prior to use. Surface preparation is also crucial, and mechanical grinding or blasting is recommended to achieve the appropriate surface profile.\n"
     ]
    }
   ],
   "source": [
    "question = \"could you please tell about maintainence\"\n",
    "answer = ask_question(question)\n",
    "print(\"Question:\", question)\n",
    "print(\"Answer:\", answer)"
   ]
  },
  {
   "cell_type": "code",
   "execution_count": null,
   "metadata": {},
   "outputs": [],
   "source": []
  }
 ],
 "metadata": {
  "kernelspec": {
   "display_name": "venv",
   "language": "python",
   "name": "python3"
  },
  "language_info": {
   "codemirror_mode": {
    "name": "ipython",
    "version": 3
   },
   "file_extension": ".py",
   "mimetype": "text/x-python",
   "name": "python",
   "nbconvert_exporter": "python",
   "pygments_lexer": "ipython3",
   "version": "3.12.0"
  }
 },
 "nbformat": 4,
 "nbformat_minor": 2
}
